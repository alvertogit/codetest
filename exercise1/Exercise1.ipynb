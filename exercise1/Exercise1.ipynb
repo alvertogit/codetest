{
 "cells": [
  {
   "cell_type": "markdown",
   "metadata": {},
   "source": [
    "# REQUIREMENTS\n",
    "Write a small app that takes an integer and return a string representation of that integer with commas separating\n",
    "groups of 3 digits. For example:\n",
    "```python\n",
    "print translate (1234)\n",
    "'1,234'\n",
    "print translate (123456789)\n",
    "'123,456,789'\n",
    "```\n",
    "\n",
    "## NOTES\n",
    "• Use Python as programming language.\n",
    "\n",
    "• Input/output methods doesn’t matter."
   ]
  },
  {
   "cell_type": "code",
   "execution_count": 1,
   "metadata": {},
   "outputs": [],
   "source": [
    "import sys"
   ]
  },
  {
   "cell_type": "code",
   "execution_count": 2,
   "metadata": {},
   "outputs": [],
   "source": [
    "def translate (intValue):\n",
    "    \"\"\"Function translate takes an integer and return a string representation of \n",
    "    that integer with commas separating groups of 3 digits.\n",
    "\n",
    "    Args:\n",
    "        intValue (int): The integer parameter to be translated.\n",
    "\n",
    "    Returns:\n",
    "        str: The return value with commas.\n",
    "        \n",
    "    Raises:\n",
    "        ValueError: If intValue is not an integer.\n",
    "    \n",
    "    \"\"\"\n",
    "\n",
    "    try:\n",
    "        int(intValue)\n",
    "    except ValueError:\n",
    "        print(\"Error: Input is not an integer\")\n",
    "        sys.exit(1)\n",
    "    \n",
    "    # integer input is transformed into string\n",
    "    strValue = str(intValue)\n",
    "    # total length of tranformed string\n",
    "    totLen = len(strValue)\n",
    "    # separating groups of 3 digits\n",
    "    groupSize = 3\n",
    "    # string result with commas to be returned\n",
    "    result = ''\n",
    "    \n",
    "    # loop over strValue to build result adding commas\n",
    "    for i, c in enumerate(strValue):\n",
    "        # digit is added to result\n",
    "        result = result+c\n",
    "        # comma is added between groups of 3 digits except at the end\n",
    "        if((totLen-1-i)%groupSize == 0 and i != totLen-1):\n",
    "            result = result+','\n",
    "            \n",
    "    return result"
   ]
  },
  {
   "cell_type": "code",
   "execution_count": 3,
   "metadata": {},
   "outputs": [
    {
     "data": {
      "text/plain": [
       "'12,345,678'"
      ]
     },
     "execution_count": 3,
     "metadata": {},
     "output_type": "execute_result"
    }
   ],
   "source": [
    "translate (12345678)"
   ]
  },
  {
   "cell_type": "code",
   "execution_count": 14,
   "metadata": {},
   "outputs": [
    {
     "name": "stdout",
     "output_type": "stream",
     "text": [
      "Error: Input is not an integer\n"
     ]
    },
    {
     "ename": "SystemExit",
     "evalue": "1",
     "output_type": "error",
     "traceback": [
      "An exception has occurred, use %tb to see the full traceback.\n",
      "\u001b[0;31mSystemExit\u001b[0m\u001b[0;31m:\u001b[0m 1\n"
     ]
    }
   ],
   "source": [
    "translate (\"12345a\")"
   ]
  },
  {
   "cell_type": "code",
   "execution_count": 5,
   "metadata": {},
   "outputs": [],
   "source": [
    "import re"
   ]
  },
  {
   "cell_type": "code",
   "execution_count": 6,
   "metadata": {},
   "outputs": [],
   "source": [
    "strnumber='1234'"
   ]
  },
  {
   "cell_type": "code",
   "execution_count": 7,
   "metadata": {},
   "outputs": [
    {
     "data": {
      "text/plain": [
       "'1,234'"
      ]
     },
     "execution_count": 7,
     "metadata": {},
     "output_type": "execute_result"
    }
   ],
   "source": [
    "re.sub(r'(?<=\\d)(?=(\\d\\d\\d)+(?!\\d))', ',', strnumber)"
   ]
  },
  {
   "cell_type": "code",
   "execution_count": 8,
   "metadata": {},
   "outputs": [],
   "source": [
    "strnumber='123456789'"
   ]
  },
  {
   "cell_type": "code",
   "execution_count": 9,
   "metadata": {},
   "outputs": [
    {
     "data": {
      "text/plain": [
       "'123,456,789'"
      ]
     },
     "execution_count": 9,
     "metadata": {},
     "output_type": "execute_result"
    }
   ],
   "source": [
    "re.sub(r'(?<=\\d)(?=(\\d\\d\\d)+(?!\\d))', ',', strnumber)"
   ]
  },
  {
   "cell_type": "code",
   "execution_count": 10,
   "metadata": {},
   "outputs": [],
   "source": [
    "def translate_regex (intValue):\n",
    "    \"\"\"Function translate takes an integer and return a string representation of \n",
    "    that integer with commas separating groups of 3 digits using regular expression.\n",
    "\n",
    "    Args:\n",
    "        intValue (int): The integer parameter to be translated.\n",
    "\n",
    "    Returns:\n",
    "        str: The return value with commas.\n",
    "    \n",
    "    Raises:\n",
    "        ValueError: If intValue is not an integer.\n",
    "        \n",
    "    \"\"\"\n",
    "\n",
    "    try:\n",
    "        int(intValue)\n",
    "    except ValueError:\n",
    "        print(\"Error: Input is not an integer\")\n",
    "        sys.exit(1)\n",
    "    \n",
    "    # integer input is transformed into string\n",
    "    strValue = str(intValue)\n",
    "    # string result with commas to be returned\n",
    "    result = ''\n",
    "    \n",
    "    # comma is added between groups of 3 digits except at the end using regex\n",
    "    result = re.sub(r'(?<=\\d)(?=(\\d\\d\\d)+(?!\\d))', ',', strValue)\n",
    "    \n",
    "    return result"
   ]
  },
  {
   "cell_type": "code",
   "execution_count": 11,
   "metadata": {},
   "outputs": [
    {
     "data": {
      "text/plain": [
       "'1,234'"
      ]
     },
     "execution_count": 11,
     "metadata": {},
     "output_type": "execute_result"
    }
   ],
   "source": [
    "translate_regex (1234)"
   ]
  },
  {
   "cell_type": "code",
   "execution_count": 12,
   "metadata": {},
   "outputs": [
    {
     "data": {
      "text/plain": [
       "'123,456,789'"
      ]
     },
     "execution_count": 12,
     "metadata": {},
     "output_type": "execute_result"
    }
   ],
   "source": [
    "translate_regex (123456789)"
   ]
  },
  {
   "cell_type": "code",
   "execution_count": 13,
   "metadata": {},
   "outputs": [
    {
     "name": "stdout",
     "output_type": "stream",
     "text": [
      "Error: Input is not an integer\n"
     ]
    },
    {
     "ename": "SystemExit",
     "evalue": "1",
     "output_type": "error",
     "traceback": [
      "An exception has occurred, use %tb to see the full traceback.\n",
      "\u001b[0;31mSystemExit\u001b[0m\u001b[0;31m:\u001b[0m 1\n"
     ]
    }
   ],
   "source": [
    "translate_regex ('12345678a')"
   ]
  },
  {
   "cell_type": "code",
   "execution_count": null,
   "metadata": {},
   "outputs": [],
   "source": []
  }
 ],
 "metadata": {
  "kernelspec": {
   "display_name": "Python 3",
   "language": "python",
   "name": "python3"
  },
  "language_info": {
   "codemirror_mode": {
    "name": "ipython",
    "version": 3
   },
   "file_extension": ".py",
   "mimetype": "text/x-python",
   "name": "python",
   "nbconvert_exporter": "python",
   "pygments_lexer": "ipython3",
   "version": "3.8.6"
  }
 },
 "nbformat": 4,
 "nbformat_minor": 4
}
